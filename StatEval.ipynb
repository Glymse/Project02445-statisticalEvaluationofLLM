{
  "cells": [
    {
      "cell_type": "markdown",
      "metadata": {
        "id": "Vhm1w-nBTVl-"
      },
      "source": [
        "# 1. Method and preperation"
      ]
    },
    {
      "cell_type": "markdown",
      "metadata": {
        "id": "wR0tz1BsTcGw"
      },
      "source": [
        "#### 1.1 Load data"
      ]
    },
    {
      "cell_type": "markdown",
      "metadata": {
        "id": "rPTfLgJPBfei"
      },
      "source": [
        "Load the data"
      ]
    },
    {
      "cell_type": "code",
      "execution_count": 1,
      "metadata": {
        "colab": {
          "base_uri": "https://localhost:8080/",
          "height": 423
        },
        "id": "iQxWrSasAlBN",
        "outputId": "504a735e-01c9-493f-83fc-5ecd5454e769"
      },
      "outputs": [
        {
          "data": {
            "text/html": [
              "<div>\n",
              "<style scoped>\n",
              "    .dataframe tbody tr th:only-of-type {\n",
              "        vertical-align: middle;\n",
              "    }\n",
              "\n",
              "    .dataframe tbody tr th {\n",
              "        vertical-align: top;\n",
              "    }\n",
              "\n",
              "    .dataframe thead th {\n",
              "        text-align: right;\n",
              "    }\n",
              "</style>\n",
              "<table border=\"1\" class=\"dataframe\">\n",
              "  <thead>\n",
              "    <tr style=\"text-align: right;\">\n",
              "      <th></th>\n",
              "      <th>set</th>\n",
              "      <th>question</th>\n",
              "      <th>exercise</th>\n",
              "      <th>topic</th>\n",
              "      <th>chatgpt</th>\n",
              "      <th>copilot</th>\n",
              "      <th>gemini</th>\n",
              "      <th>answer</th>\n",
              "    </tr>\n",
              "  </thead>\n",
              "  <tbody>\n",
              "    <tr>\n",
              "      <th>0</th>\n",
              "      <td>2018may</td>\n",
              "      <td>1</td>\n",
              "      <td>1</td>\n",
              "      <td>5</td>\n",
              "      <td>1</td>\n",
              "      <td>4</td>\n",
              "      <td>1</td>\n",
              "      <td>4</td>\n",
              "    </tr>\n",
              "    <tr>\n",
              "      <th>1</th>\n",
              "      <td>2018may</td>\n",
              "      <td>2</td>\n",
              "      <td>1</td>\n",
              "      <td>5</td>\n",
              "      <td>4</td>\n",
              "      <td>2</td>\n",
              "      <td>1</td>\n",
              "      <td>5</td>\n",
              "    </tr>\n",
              "    <tr>\n",
              "      <th>2</th>\n",
              "      <td>2018may</td>\n",
              "      <td>3</td>\n",
              "      <td>1</td>\n",
              "      <td>5</td>\n",
              "      <td>3</td>\n",
              "      <td>1</td>\n",
              "      <td>3</td>\n",
              "      <td>2</td>\n",
              "    </tr>\n",
              "    <tr>\n",
              "      <th>3</th>\n",
              "      <td>2018may</td>\n",
              "      <td>4</td>\n",
              "      <td>1</td>\n",
              "      <td>5</td>\n",
              "      <td>3</td>\n",
              "      <td>3</td>\n",
              "      <td>3</td>\n",
              "      <td>3</td>\n",
              "    </tr>\n",
              "    <tr>\n",
              "      <th>4</th>\n",
              "      <td>2018may</td>\n",
              "      <td>5</td>\n",
              "      <td>2</td>\n",
              "      <td>2</td>\n",
              "      <td>1</td>\n",
              "      <td>1</td>\n",
              "      <td>2</td>\n",
              "      <td>1</td>\n",
              "    </tr>\n",
              "    <tr>\n",
              "      <th>...</th>\n",
              "      <td>...</td>\n",
              "      <td>...</td>\n",
              "      <td>...</td>\n",
              "      <td>...</td>\n",
              "      <td>...</td>\n",
              "      <td>...</td>\n",
              "      <td>...</td>\n",
              "      <td>...</td>\n",
              "    </tr>\n",
              "    <tr>\n",
              "      <th>295</th>\n",
              "      <td>2024may</td>\n",
              "      <td>26</td>\n",
              "      <td>13</td>\n",
              "      <td>7</td>\n",
              "      <td>2</td>\n",
              "      <td>2</td>\n",
              "      <td>2</td>\n",
              "      <td>4</td>\n",
              "    </tr>\n",
              "    <tr>\n",
              "      <th>296</th>\n",
              "      <td>2024may</td>\n",
              "      <td>27</td>\n",
              "      <td>13</td>\n",
              "      <td>7</td>\n",
              "      <td>2</td>\n",
              "      <td>2</td>\n",
              "      <td>2</td>\n",
              "      <td>2</td>\n",
              "    </tr>\n",
              "    <tr>\n",
              "      <th>297</th>\n",
              "      <td>2024may</td>\n",
              "      <td>28</td>\n",
              "      <td>14</td>\n",
              "      <td>8</td>\n",
              "      <td>4</td>\n",
              "      <td>4</td>\n",
              "      <td>5</td>\n",
              "      <td>4</td>\n",
              "    </tr>\n",
              "    <tr>\n",
              "      <th>298</th>\n",
              "      <td>2024may</td>\n",
              "      <td>29</td>\n",
              "      <td>14</td>\n",
              "      <td>8</td>\n",
              "      <td>5</td>\n",
              "      <td>0</td>\n",
              "      <td>0</td>\n",
              "      <td>5</td>\n",
              "    </tr>\n",
              "    <tr>\n",
              "      <th>299</th>\n",
              "      <td>2024may</td>\n",
              "      <td>30</td>\n",
              "      <td>14</td>\n",
              "      <td>8</td>\n",
              "      <td>4</td>\n",
              "      <td>4</td>\n",
              "      <td>3</td>\n",
              "      <td>4</td>\n",
              "    </tr>\n",
              "  </tbody>\n",
              "</table>\n",
              "<p>300 rows × 8 columns</p>\n",
              "</div>"
            ],
            "text/plain": [
              "         set  question  exercise  topic  chatgpt  copilot  gemini  answer\n",
              "0    2018may         1         1      5        1        4       1       4\n",
              "1    2018may         2         1      5        4        2       1       5\n",
              "2    2018may         3         1      5        3        1       3       2\n",
              "3    2018may         4         1      5        3        3       3       3\n",
              "4    2018may         5         2      2        1        1       2       1\n",
              "..       ...       ...       ...    ...      ...      ...     ...     ...\n",
              "295  2024may        26        13      7        2        2       2       4\n",
              "296  2024may        27        13      7        2        2       2       2\n",
              "297  2024may        28        14      8        4        4       5       4\n",
              "298  2024may        29        14      8        5        0       0       5\n",
              "299  2024may        30        14      8        4        4       3       4\n",
              "\n",
              "[300 rows x 8 columns]"
            ]
          },
          "execution_count": 1,
          "metadata": {},
          "output_type": "execute_result"
        }
      ],
      "source": [
        "import pandas as pd\n",
        "import seaborn as sns\n",
        "import matplotlib.pyplot as plt\n",
        "import pandas as pd\n",
        "import numpy as np\n",
        "from scipy import stats\n",
        "from scipy.stats import chi2_contingency\n",
        "\n",
        "sns.set_theme()\n",
        "\n",
        "# URLs of the raw CSV files\n",
        "urls = [\n",
        "    'https://raw.githubusercontent.com/Glymse/Project02445-statisticalEvaluationofLLM/master/Data/2018may.csv',\n",
        "    'https://raw.githubusercontent.com/Glymse/Project02445-statisticalEvaluationofLLM/master/Data/2019aug.csv',\n",
        "    'https://raw.githubusercontent.com/Glymse/Project02445-statisticalEvaluationofLLM/master/Data/2020dec.csv',\n",
        "    'https://raw.githubusercontent.com/Glymse/Project02445-statisticalEvaluationofLLM/master/Data/2021dec.csv',\n",
        "    'https://raw.githubusercontent.com/Glymse/Project02445-statisticalEvaluationofLLM/master/Data/2022jun.csv',\n",
        "    'https://raw.githubusercontent.com/Glymse/Project02445-statisticalEvaluationofLLM/master/Data/2022dec.csv',\n",
        "    'https://raw.githubusercontent.com/Glymse/Project02445-statisticalEvaluationofLLM/master/Data/2023may.csv',\n",
        "    'https://raw.githubusercontent.com/Glymse/Project02445-statisticalEvaluationofLLM/master/Data/2023jun.csv',\n",
        "    'https://raw.githubusercontent.com/Glymse/Project02445-statisticalEvaluationofLLM/master/Data/2023dec.csv',\n",
        "    'https://raw.githubusercontent.com/Glymse/Project02445-statisticalEvaluationofLLM/master/Data/2024may.csv',\n",
        "]\n",
        "\n",
        "# Read and stack all CSV files\n",
        "df_list = [pd.read_csv(url) for url in urls]\n",
        "LLMData = pd.concat(df_list, ignore_index=True)\n",
        "df = pd.DataFrame(LLMData)\n",
        "\n",
        "# Pilot study dataset\n",
        "df_pilot = df[df[\"set\"] == \"2024may\"]\n",
        "\n",
        "df"
      ]
    },
    {
      "cell_type": "markdown",
      "metadata": {
        "id": "ljoaNPUPTZB8"
      },
      "source": [
        "#### 1.2 Sample size"
      ]
    },
    {
      "cell_type": "code",
      "execution_count": 2,
      "metadata": {
        "colab": {
          "base_uri": "https://localhost:8080/"
        },
        "id": "UDjRW3ZQiCcs",
        "outputId": "81f507c1-1c65-472b-dab2-2da4153663d4"
      },
      "outputs": [
        {
          "name": "stdout",
          "output_type": "stream",
          "text": [
            "Max sample size: 295\n"
          ]
        }
      ],
      "source": [
        "# Binarization of answers\n",
        "preds_chatgpt = (df_pilot['chatgpt'] == df_pilot['answer'])\n",
        "preds_copilot = (df_pilot['copilot'] == df_pilot['answer'])\n",
        "preds_gemini = (df_pilot['gemini'] == df_pilot['answer'])\n",
        "\n",
        "# Number of correct answers (obs. in category)\n",
        "x_chatgpt = preds_chatgpt.sum()\n",
        "x_copilot = preds_copilot.sum()\n",
        "x_gemini = preds_gemini.sum()\n",
        "\n",
        "# Size of pilot study (number of total questions)\n",
        "n_pilot = len(df_pilot)\n",
        "\n",
        "# Proportions\n",
        "p_chatgpt = x_chatgpt/n_pilot\n",
        "p_copilot = x_copilot/n_pilot\n",
        "p_gemini = x_gemini/n_pilot\n",
        "\n",
        "# Parameters\n",
        "alpha = 0.05\n",
        "power = 0.80\n",
        "\n",
        "# Calculate critical values\n",
        "z_alpha = stats.norm.ppf(1 - alpha/2)\n",
        "z_beta = stats.norm.ppf(power)\n",
        "\n",
        "# Chatgpt vs copilot\n",
        "p_hat1 = (x_chatgpt + x_copilot)/(n_pilot + n_pilot)\n",
        "n1 = (2 * p_hat1 * (1-p_hat1) * (z_beta + z_alpha)**2)/(p_chatgpt - p_copilot)**2\n",
        "\n",
        "# Chatgpt vs gemini\n",
        "p_hat2 = (x_chatgpt + x_gemini)/(n_pilot + n_pilot)\n",
        "n2 = (2 * p_hat2 * (1-p_hat2) * (z_beta + z_alpha)**2)/(p_chatgpt - p_gemini)**2\n",
        "\n",
        "# Copilot vs gemini\n",
        "p_hat3 = (x_copilot + x_gemini)/(n_pilot + n_pilot)\n",
        "n3 = (2 * p_hat3 * (1-p_hat3) * (z_beta + z_alpha)**2)/(p_copilot - p_gemini)**2\n",
        "\n",
        "# Max sample size\n",
        "n_max = int(np.ceil(np.max([n1, n2, n3])))\n",
        "\n",
        "print(\"Max sample size:\", n_max)"
      ]
    },
    {
      "cell_type": "markdown",
      "metadata": {
        "id": "DdswDz5dBjHP"
      },
      "source": [
        "# 2. Statistical analysis"
      ]
    },
    {
      "cell_type": "markdown",
      "metadata": {
        "id": "ZUuc2nxrBm-s"
      },
      "source": [
        "### 2.1 Summary statistics"
      ]
    },
    {
      "cell_type": "markdown",
      "metadata": {
        "id": "cOKRnYJQN6fa"
      },
      "source": [
        "#### Metric table"
      ]
    },
    {
      "cell_type": "code",
      "execution_count": 3,
      "metadata": {
        "colab": {
          "base_uri": "https://localhost:8080/",
          "height": 423
        },
        "id": "D-4lNfdvOUSc",
        "outputId": "afe4a969-6b05-4259-83fe-c2703caa036f"
      },
      "outputs": [
        {
          "data": {
            "text/html": [
              "<div>\n",
              "<style scoped>\n",
              "    .dataframe tbody tr th:only-of-type {\n",
              "        vertical-align: middle;\n",
              "    }\n",
              "\n",
              "    .dataframe tbody tr th {\n",
              "        vertical-align: top;\n",
              "    }\n",
              "\n",
              "    .dataframe thead th {\n",
              "        text-align: right;\n",
              "    }\n",
              "</style>\n",
              "<table border=\"1\" class=\"dataframe\">\n",
              "  <thead>\n",
              "    <tr style=\"text-align: right;\">\n",
              "      <th></th>\n",
              "      <th>chatgpt_correct</th>\n",
              "      <th>copilot_correct</th>\n",
              "      <th>gemini_correct</th>\n",
              "    </tr>\n",
              "  </thead>\n",
              "  <tbody>\n",
              "    <tr>\n",
              "      <th>0</th>\n",
              "      <td>0</td>\n",
              "      <td>1</td>\n",
              "      <td>0</td>\n",
              "    </tr>\n",
              "    <tr>\n",
              "      <th>1</th>\n",
              "      <td>0</td>\n",
              "      <td>0</td>\n",
              "      <td>0</td>\n",
              "    </tr>\n",
              "    <tr>\n",
              "      <th>2</th>\n",
              "      <td>0</td>\n",
              "      <td>0</td>\n",
              "      <td>0</td>\n",
              "    </tr>\n",
              "    <tr>\n",
              "      <th>3</th>\n",
              "      <td>1</td>\n",
              "      <td>1</td>\n",
              "      <td>1</td>\n",
              "    </tr>\n",
              "    <tr>\n",
              "      <th>4</th>\n",
              "      <td>1</td>\n",
              "      <td>1</td>\n",
              "      <td>0</td>\n",
              "    </tr>\n",
              "    <tr>\n",
              "      <th>...</th>\n",
              "      <td>...</td>\n",
              "      <td>...</td>\n",
              "      <td>...</td>\n",
              "    </tr>\n",
              "    <tr>\n",
              "      <th>295</th>\n",
              "      <td>0</td>\n",
              "      <td>0</td>\n",
              "      <td>0</td>\n",
              "    </tr>\n",
              "    <tr>\n",
              "      <th>296</th>\n",
              "      <td>1</td>\n",
              "      <td>1</td>\n",
              "      <td>1</td>\n",
              "    </tr>\n",
              "    <tr>\n",
              "      <th>297</th>\n",
              "      <td>1</td>\n",
              "      <td>1</td>\n",
              "      <td>0</td>\n",
              "    </tr>\n",
              "    <tr>\n",
              "      <th>298</th>\n",
              "      <td>1</td>\n",
              "      <td>0</td>\n",
              "      <td>0</td>\n",
              "    </tr>\n",
              "    <tr>\n",
              "      <th>299</th>\n",
              "      <td>1</td>\n",
              "      <td>1</td>\n",
              "      <td>0</td>\n",
              "    </tr>\n",
              "  </tbody>\n",
              "</table>\n",
              "<p>300 rows × 3 columns</p>\n",
              "</div>"
            ],
            "text/plain": [
              "     chatgpt_correct  copilot_correct  gemini_correct\n",
              "0                  0                1               0\n",
              "1                  0                0               0\n",
              "2                  0                0               0\n",
              "3                  1                1               1\n",
              "4                  1                1               0\n",
              "..               ...              ...             ...\n",
              "295                0                0               0\n",
              "296                1                1               1\n",
              "297                1                1               0\n",
              "298                1                0               0\n",
              "299                1                1               0\n",
              "\n",
              "[300 rows x 3 columns]"
            ]
          },
          "execution_count": 3,
          "metadata": {},
          "output_type": "execute_result"
        }
      ],
      "source": [
        "correct = pd.DataFrame()\n",
        "# Calculate correctness for each model\n",
        "\n",
        "correct['chatgpt_correct'] = (LLMData['chatgpt'] == LLMData['answer']).astype(int)\n",
        "correct['copilot_correct'] = (LLMData['copilot'] == LLMData['answer']).astype(int)\n",
        "correct['gemini_correct'] = (LLMData['gemini'] == LLMData['answer']).astype(int)\n",
        "\n",
        "correct"
      ]
    },
    {
      "cell_type": "markdown",
      "metadata": {
        "id": "uv1jWjBOpJYJ"
      },
      "source": [
        "#### Proportions"
      ]
    },
    {
      "cell_type": "code",
      "execution_count": 4,
      "metadata": {
        "colab": {
          "base_uri": "https://localhost:8080/"
        },
        "id": "3X0vQxeHpM4a",
        "outputId": "d4f9d1af-20d5-4983-8aaf-40be5a5fcd60"
      },
      "outputs": [
        {
          "data": {
            "text/plain": [
              "(0.7, 0.8, 0.3333333333333333)"
            ]
          },
          "execution_count": 4,
          "metadata": {},
          "output_type": "execute_result"
        }
      ],
      "source": [
        "# Number of correct answers in pilot study (obs. in category)\n",
        "x_chatgpt = (df_pilot['chatgpt'] == df_pilot['answer']).sum()\n",
        "x_copilot = (df_pilot['copilot'] == df_pilot['answer']).sum()\n",
        "x_gemini = (df_pilot['gemini'] == df_pilot['answer']).sum()\n",
        "\n",
        "# Size of pilot study (number of total questions)\n",
        "n_pilot = len(df_pilot)\n",
        "\n",
        "# Proportions\n",
        "p_chatgpt, p_copilot, p_gemini = x_chatgpt/n_pilot, x_copilot/n_pilot, x_gemini/n_pilot\n",
        "\n",
        "p_chatgpt, p_copilot, p_gemini"
      ]
    },
    {
      "cell_type": "markdown",
      "metadata": {
        "id": "3ONUmKr1iyOM"
      },
      "source": [
        "#### Shapiro-Wilk Test (for normality assumption)"
      ]
    },
    {
      "cell_type": "code",
      "execution_count": 5,
      "metadata": {
        "colab": {
          "base_uri": "https://localhost:8080/"
        },
        "id": "SFfZQHICi2na",
        "outputId": "198c40e7-d0ce-4ee7-8e39-4b7935b306f7"
      },
      "outputs": [
        {
          "name": "stdout",
          "output_type": "stream",
          "text": [
            "Shapiro-Wilk test for ChatGPT: Statistics=0.5774388250536482, p-value=3.9143941396873556e-08\n",
            "Shapiro-Wilk test for Copilot: Statistics=0.4921604158131566, p-value=4.432146480631244e-09\n",
            "Shapiro-Wilk test for Gemini: Statistics=0.5966272958469627, p-value=6.640075557543391e-08\n"
          ]
        }
      ],
      "source": [
        "from scipy.stats import shapiro\n",
        "\n",
        "# Perform Shapiro-Wilk test for each group\n",
        "stat_chatgpt, p_chatgpt = shapiro(preds_chatgpt.astype(int))\n",
        "stat_copilot, p_copilot = shapiro(preds_copilot.astype(int))\n",
        "stat_gemini, p_gemini = shapiro(preds_gemini.astype(int))\n",
        "\n",
        "print(f\"Shapiro-Wilk test for ChatGPT: Statistics={stat_chatgpt}, p-value={p_chatgpt}\")\n",
        "print(f\"Shapiro-Wilk test for Copilot: Statistics={stat_copilot}, p-value={p_copilot}\")\n",
        "print(f\"Shapiro-Wilk test for Gemini: Statistics={stat_gemini}, p-value={p_gemini}\")"
      ]
    },
    {
      "cell_type": "markdown",
      "metadata": {
        "id": "_aMPlRfLBvq2"
      },
      "source": [
        "#### Bar plot of model-accuracy"
      ]
    },
    {
      "cell_type": "code",
      "execution_count": 6,
      "metadata": {
        "colab": {
          "base_uri": "https://localhost:8080/",
          "height": 493
        },
        "id": "DZJTOGFk2vPk",
        "outputId": "0d46cef7-ee1c-4cbf-e655-4ccb4ac7d582"
      },
      "outputs": [
        {
          "name": "stderr",
          "output_type": "stream",
          "text": [
            "C:\\Users\\jonas\\AppData\\Local\\Temp/ipykernel_51420/722737399.py:21: FutureWarning: \n",
            "\n",
            "Passing `palette` without assigning `hue` is deprecated and will be removed in v0.14.0. Assign the `x` variable to `hue` and set `legend=False` for the same effect.\n",
            "\n",
            "  sns.barplot(x='Model', y='Accuracy', data=correct_df, palette='Set2')\n"
          ]
        },
        {
          "data": {
            "image/png": "[encoded data removed]",
            "text/plain": [
              "<Figure size 432x288 with 1 Axes>"
            ]
          },
          "metadata": {
            "needs_background": "light"
          },
          "output_type": "display_data"
        }
      ],
      "source": [
        "# Initialize counts\n",
        "correct_counts = {'chatgpt': 0, 'copilot': 0, 'gemini': 0}\n",
        "\n",
        "# Count the number of correct answers for each model\n",
        "for index, row in df.iterrows():\n",
        "    if row['chatgpt'] == row['answer']:\n",
        "        correct_counts['chatgpt'] += 1\n",
        "    if row['copilot'] == row['answer']:\n",
        "        correct_counts['copilot'] += 1\n",
        "    if row['gemini'] == row['answer']:\n",
        "        correct_counts['gemini'] += 1\n",
        "\n",
        "# Convert the counts to a DataFrame for plotting\n",
        "correct_df = pd.DataFrame(list(correct_counts.items()), columns=['Model', 'Correct'])\n",
        "\n",
        "# Calculate accuracy\n",
        "correct_df['Accuracy'] = correct_df['Correct'] / len(df)\n",
        "\n",
        "# Plot using Seaborn with Set2 palette\n",
        "plt.figure(figsize=(6, 4))\n",
        "sns.barplot(x='Model', y='Accuracy', data=correct_df, palette='Set2')\n",
        "\n",
        "# Annotate each bar with the accuracy percentage\n",
        "for index, row in correct_df.iterrows():\n",
        "    plt.text(index, row['Accuracy'], f'{row[\"Accuracy\"]*100:.2f}%', ha='center', va='bottom', fontsize=12)\n",
        "\n",
        "plt.xlabel('Model')\n",
        "plt.ylabel('Accuracy (%)')  # Change ylabel to indicate percentage\n",
        "plt.title('Accuracy by Model')\n",
        "plt.ylim(0, 1)  # Set the y-axis limit to 0-1\n",
        "plt.tight_layout()\n",
        "plt.savefig(\"model-mean-accuracies.svg\")\n",
        "\n",
        "# Display the plot\n",
        "plt.show()"
      ]
    },
    {
      "cell_type": "code",
      "execution_count": 7,
      "metadata": {
        "colab": {
          "base_uri": "https://localhost:8080/",
          "height": 496
        },
        "id": "CWpIPe2nBEr7",
        "outputId": "00febd4c-5579-4083-99eb-6642d54d98e0"
      },
      "outputs": [
        {
          "data": {
            "image/png": "[encoded data removed]",
            "text/plain": [
              "<Figure size 720x360 with 1 Axes>"
            ]
          },
          "metadata": {
            "needs_background": "light"
          },
          "output_type": "display_data"
        }
      ],
      "source": [
        "import pandas as pd\n",
        "import matplotlib.pyplot as plt\n",
        "\n",
        "\n",
        "\n",
        "\n",
        "# Initialize counts\n",
        "correct_counts = {'chatgpt': 0, 'copilot': 0, 'gemini': 0}\n",
        "\n",
        "# Count the number of correct answers for each model\n",
        "for index, row in df.iterrows():\n",
        "    if row['chatgpt'] == row['answer']:\n",
        "        correct_counts['chatgpt'] += 1\n",
        "    if row['copilot'] == row['answer']:\n",
        "        correct_counts['copilot'] += 1\n",
        "    if row['gemini'] == row['answer']:\n",
        "        correct_counts['gemini'] += 1\n",
        "\n",
        "# Convert the counts to a DataFrame for plotting\n",
        "correct_df = pd.DataFrame(list(correct_counts.items()), columns=['Model', 'Correct'])\n",
        "\n",
        "# Calculate accuracy\n",
        "correct_df['Accuracy'] = correct_df['Correct'] / 300\n",
        "\n",
        "# Plot the bar plot\n",
        "plt.figure(figsize=(10, 5))\n",
        "bars = plt.bar(correct_df['Model'], correct_df['Accuracy'], color=['blue', 'green', 'red'])\n",
        "plt.xlabel('Model')\n",
        "plt.ylabel('Accuracy')\n",
        "plt.title('Accuracy by Model')\n",
        "plt.ylim(0, 1)  # Set the y-axis limit to 0-1\n",
        "\n",
        "# Annotate each bar with the accuracy\n",
        "for bar in bars:\n",
        "    yval = bar.get_height()\n",
        "    plt.text(bar.get_x() + bar.get_width()/2, yval, f'{yval:.2%}', ha='center', va='bottom')\n",
        "\n",
        "# Display the plot\n",
        "plt.show()\n"
      ]
    },
    {
      "cell_type": "markdown",
      "metadata": {
        "id": "-Rj437ywE3jZ"
      },
      "source": [
        "#### Bar plot of model-set-accuracy"
      ]
    },
    {
      "cell_type": "code",
      "execution_count": 8,
      "metadata": {
        "colab": {
          "base_uri": "https://localhost:8080/",
          "height": 701
        },
        "id": "3C651oRsEqeN",
        "outputId": "f2d116ec-e0f8-48cc-aee6-408bcc098c69"
      },
      "outputs": [
        {
          "data": {
            "image/png": "[encoded data removed]",
            "text/plain": [
              "<Figure size 1008x504 with 10 Axes>"
            ]
          },
          "metadata": {
            "needs_background": "light"
          },
          "output_type": "display_data"
        }
      ],
      "source": [
        "import pandas as pd\n",
        "import matplotlib.pyplot as plt\n",
        "\n",
        "# Assuming LLMData is already defined\n",
        "df = pd.DataFrame(LLMData)\n",
        "\n",
        "# Create a 5x2 subplot grid\n",
        "fig, axes = plt.subplots(2, 5, figsize=(14, 7))\n",
        "\n",
        "# Flatten the axes array for easier iteration\n",
        "axes = axes.flatten()\n",
        "\n",
        "# Group by 'set' and plot each group\n",
        "for ax, (set_name, group) in zip(axes, df.groupby('set')):\n",
        "    # Initialize counts\n",
        "    correct_counts = {'chatgpt': 0, 'copilot': 0, 'gemini': 0}\n",
        "\n",
        "    # Count the number of correct answers for each model\n",
        "    for index, row in group.iterrows():\n",
        "        if row['chatgpt'] == row['answer']:\n",
        "            correct_counts['chatgpt'] += 1\n",
        "        if row['copilot'] == row['answer']:\n",
        "            correct_counts['copilot'] += 1\n",
        "        if row['gemini'] == row['answer']:\n",
        "            correct_counts['gemini'] += 1\n",
        "\n",
        "    # Convert the counts to a DataFrame for plotting\n",
        "    correct_df = pd.DataFrame(list(correct_counts.items()), columns=['Model', 'Correct'])\n",
        "\n",
        "    # Calculate accuracy\n",
        "    correct_df['Accuracy'] = correct_df['Correct'] / 30\n",
        "\n",
        "    # Plot the bar plot with accuracy\n",
        "    bars = ax.bar(correct_df['Model'], correct_df['Accuracy'], color=['blue', 'green', 'red'])\n",
        "    ax.set_xlabel('Model')\n",
        "    ax.set_ylabel('Accuracy')\n",
        "    ax.set_ylim(0, 1)\n",
        "    ax.set_title(f'{set_name}')\n",
        "\n",
        "    # Annotate each bar with the accuracy\n",
        "    for bar in bars:\n",
        "        yval = bar.get_height()\n",
        "        ax.text(bar.get_x() + bar.get_width()/2, yval, f'{yval:.2%}', ha='center', va='bottom')\n",
        "\n",
        "# Remove any unused subplots\n",
        "for i in range(len(df['set'].unique()), len(axes)):\n",
        "    fig.delaxes(axes[i])\n",
        "\n",
        "# Adjust layout\n",
        "plt.tight_layout()\n",
        "plt.savefig(\"examset-accuracies.svg\")\n",
        "\n",
        "# Display the plot\n",
        "plt.show()"
      ]
    },
    {
      "cell_type": "markdown",
      "metadata": {
        "id": "zykFyhUYiR5a"
      },
      "source": [
        "#### Bar plot of accuracy by topic"
      ]
    },
    {
      "cell_type": "code",
      "execution_count": 9,
      "metadata": {
        "colab": {
          "base_uri": "https://localhost:8080/",
          "height": 587
        },
        "id": "hSUU8T2MiSxV",
        "outputId": "20a15686-3b18-4e54-84c6-3473b1fb57fc"
      },
      "outputs": [
        {
          "name": "stderr",
          "output_type": "stream",
          "text": [
            "C:\\Users\\jonas\\AppData\\Local\\Temp/ipykernel_51420/3761547344.py:19: FutureWarning: \n",
            "\n",
            "The `ci` parameter is deprecated. Use `errorbar=None` for the same effect.\n",
            "\n",
            "  sns.barplot(x='topic', y='accuracy_percentage', hue='model', data=df_melted, palette='viridis', ci=None)\n"
          ]
        },
        {
          "data": {
            "image/png": "[encoded data removed]",
            "text/plain": [
              "<Figure size 792x360 with 1 Axes>"
            ]
          },
          "metadata": {
            "needs_background": "light"
          },
          "output_type": "display_data"
        }
      ],
      "source": [
        "import pandas as pd\n",
        "import matplotlib.pyplot as plt\n",
        "import seaborn as sns\n",
        "\n",
        "# Assuming LLMData is already defined and contains 'topic', 'answer', 'chatgpt', 'copilot', 'gemini' columns\n",
        "df = pd.DataFrame(LLMData)\n",
        "\n",
        "# Calculate accuracy percentage for each model\n",
        "df['chatgpt_accuracy'] = (df['answer'] == df['chatgpt']) * 100\n",
        "df['copilot_accuracy'] = (df['answer'] == df['copilot']) * 100\n",
        "df['gemini_accuracy'] = (df['answer'] == df['gemini']) * 100\n",
        "\n",
        "# Melt the DataFrame to long format for easier plotting\n",
        "df_melted = pd.melt(df, id_vars=['topic'], value_vars=['chatgpt_accuracy', 'copilot_accuracy', 'gemini_accuracy'],\n",
        "                    var_name='model', value_name='accuracy_percentage')\n",
        "\n",
        "# Plot using Seaborn\n",
        "plt.figure(figsize=(11, 5))\n",
        "sns.barplot(x='topic', y='accuracy_percentage', hue='model', data=df_melted, palette='viridis', ci=None)\n",
        "plt.title('Model Accuracy by Topic')\n",
        "plt.ylabel('Accuracy (%)')\n",
        "plt.xlabel('Topic')\n",
        "\n",
        "plt.legend(\n",
        "    #title='Model',\n",
        "    loc='upper center', bbox_to_anchor=(0.5, -0.15),\n",
        "    fancybox=True, shadow=False, ncol=5\n",
        ")\n",
        "\n",
        "plt.tight_layout()\n",
        "plt.savefig(\"accuracy-by-topic.svg\")\n",
        "plt.show()\n"
      ]
    },
    {
      "cell_type": "markdown",
      "metadata": {
        "id": "zVaWOAXE7ekZ"
      },
      "source": [
        "#### Bar plot of distribution of topics per exam set"
      ]
    },
    {
      "cell_type": "code",
      "execution_count": 10,
      "metadata": {
        "colab": {
          "base_uri": "https://localhost:8080/",
          "height": 501
        },
        "id": "FFV-BtjD7kp-",
        "outputId": "b844d087-0d29-4d72-c8ac-435a4e5bfd2f"
      },
      "outputs": [
        {
          "data": {
            "image/png": "[encoded data removed]",
            "text/plain": [
              "<Figure size 792x360 with 1 Axes>"
            ]
          },
          "metadata": {
            "needs_background": "light"
          },
          "output_type": "display_data"
        }
      ],
      "source": [
        "# Count occurrences of each topic per exam set\n",
        "topic_counts = df.groupby('set')['topic'].value_counts().reset_index(name='count')\n",
        "\n",
        "# Plot using Seaborn\n",
        "plt.figure(figsize=(11, 5))\n",
        "sns.barplot(x='topic', y='count', hue='set', data=topic_counts, palette='Set2')\n",
        "\n",
        "plt.title('Distribution of Topics per Exam Set')\n",
        "plt.ylabel('Number of Questions')\n",
        "plt.xlabel('Topic')\n",
        "\n",
        "plt.legend(title='Exam Set', loc='upper left')\n",
        "\n",
        "plt.tight_layout()\n",
        "plt.savefig(\"dist-topics-per-exam-set.svg\")\n",
        "plt.show()"
      ]
    },
    {
      "cell_type": "markdown",
      "metadata": {
        "id": "CuRPGVXfaHqe"
      },
      "source": [
        "### 2.2 Data analysis"
      ]
    },
    {
      "cell_type": "markdown",
      "metadata": {
        "id": "8pM5jayk6fSf"
      },
      "source": [
        "#### Retention metric"
      ]
    },
    {
      "cell_type": "code",
      "execution_count": 11,
      "metadata": {
        "colab": {
          "base_uri": "https://localhost:8080/",
          "height": 591
        },
        "id": "XG3WihKnJV2e",
        "outputId": "4d726fc1-4719-432b-9b5e-de966913b908"
      },
      "outputs": [
        {
          "data": {
            "image/png": "[encoded data removed]",
            "text/plain": [
              "<Figure size 720x432 with 1 Axes>"
            ]
          },
          "metadata": {
            "needs_background": "light"
          },
          "output_type": "display_data"
        },
        {
          "data": {
            "text/plain": [
              "[0.6024464285714285, 0.6746002886002886, 0.405446608946609]"
            ]
          },
          "execution_count": 11,
          "metadata": {},
          "output_type": "execute_result"
        }
      ],
      "source": [
        "# Function to calculate retention accuracy per set and exercise\n",
        "def calculate_retention_accuracy(df, model_name):\n",
        "    accuracy_scores = []\n",
        "\n",
        "    # Group by 'set' (exam sets)\n",
        "    grouped_by_set = df.groupby('set')\n",
        "\n",
        "    for name, group in grouped_by_set:\n",
        "        # Group by 'exercise' within the current exam set\n",
        "        grouped_by_exercise = group.groupby('exercise')\n",
        "\n",
        "        for exercise_name, exercise_group in grouped_by_exercise:\n",
        "            correct_answers = exercise_group['answer'].tolist()\n",
        "            model_answers = exercise_group[model_name].tolist()\n",
        "\n",
        "            # Calculate accuracy for this exercise\n",
        "            correct_count = sum(1 for x, y in zip(correct_answers, model_answers) if x == y)\n",
        "            exercise_accuracy = correct_count / len(correct_answers)\n",
        "            accuracy_scores.append((name, exercise_name, exercise_accuracy))\n",
        "\n",
        "    return accuracy_scores\n",
        "\n",
        "# Calculate retention accuracy for each LLM\n",
        "chatgpt_accuracy = calculate_retention_accuracy(df, 'chatgpt')\n",
        "copilot_accuracy = calculate_retention_accuracy(df, 'copilot')\n",
        "gemini_accuracy = calculate_retention_accuracy(df, 'gemini')\n",
        "\n",
        "# Function to calculate mean retention accuracy\n",
        "def calculate_mean_accuracy(scores):\n",
        "    accuracy_per_set = {}\n",
        "    for score in scores:\n",
        "        set_name, _, accuracy = score\n",
        "        if set_name not in accuracy_per_set:\n",
        "            accuracy_per_set[set_name] = []\n",
        "        accuracy_per_set[set_name].append(accuracy)\n",
        "\n",
        "    mean_accuracy = {set_name: sum(acc_scores) / len(acc_scores) for set_name, acc_scores in accuracy_per_set.items()}\n",
        "    return mean_accuracy\n",
        "\n",
        "# Calculate mean retention accuracy for each model\n",
        "chatgpt_mean_accuracy = calculate_mean_accuracy(chatgpt_accuracy)\n",
        "copilot_mean_accuracy = calculate_mean_accuracy(copilot_accuracy)\n",
        "gemini_mean_accuracy = calculate_mean_accuracy(gemini_accuracy)\n",
        "\n",
        "# Plotting mean retention accuracy using Seaborn\n",
        "models = ['ChatGPT', 'Copilot', 'Gemini']\n",
        "mean_scores = [\n",
        "    sum(chatgpt_mean_accuracy.values()) / len(chatgpt_mean_accuracy),\n",
        "    sum(copilot_mean_accuracy.values()) / len(copilot_mean_accuracy),\n",
        "    sum(gemini_mean_accuracy.values()) / len(gemini_mean_accuracy)\n",
        "]\n",
        "\n",
        "plt.figure(figsize=(10, 6))\n",
        "sns.barplot(x=models, y=mean_scores)\n",
        "plt.title('Mean Retention Accuracy for Each Model')\n",
        "plt.xlabel('Model')\n",
        "plt.ylabel('Mean Retention Accuracy')\n",
        "plt.ylim(0, 1.1)  # Ensure y-axis starts from 0 to 1.1\n",
        "plt.savefig(\"mean-retention-accuracy.svg\")\n",
        "plt.show()\n",
        "\n",
        "mean_scores"
      ]
    },
    {
      "cell_type": "markdown",
      "metadata": {
        "id": "u8_F1yIMZSAJ"
      },
      "source": [
        "#### Hypothetis test cochrans Q\n"
      ]
    },
    {
      "cell_type": "code",
      "execution_count": 12,
      "metadata": {
        "id": "PlmqLfwjT4IY"
      },
      "outputs": [
        {
          "data": {
            "text/html": [
              "<div>\n",
              "<style scoped>\n",
              "    .dataframe tbody tr th:only-of-type {\n",
              "        vertical-align: middle;\n",
              "    }\n",
              "\n",
              "    .dataframe tbody tr th {\n",
              "        vertical-align: top;\n",
              "    }\n",
              "\n",
              "    .dataframe thead th {\n",
              "        text-align: right;\n",
              "    }\n",
              "</style>\n",
              "<table border=\"1\" class=\"dataframe\">\n",
              "  <thead>\n",
              "    <tr style=\"text-align: right;\">\n",
              "      <th></th>\n",
              "      <th>chatgpt_correct</th>\n",
              "      <th>copilot_correct</th>\n",
              "      <th>gemini_correct</th>\n",
              "    </tr>\n",
              "  </thead>\n",
              "  <tbody>\n",
              "    <tr>\n",
              "      <th>0</th>\n",
              "      <td>0</td>\n",
              "      <td>1</td>\n",
              "      <td>0</td>\n",
              "    </tr>\n",
              "    <tr>\n",
              "      <th>1</th>\n",
              "      <td>0</td>\n",
              "      <td>0</td>\n",
              "      <td>0</td>\n",
              "    </tr>\n",
              "    <tr>\n",
              "      <th>2</th>\n",
              "      <td>0</td>\n",
              "      <td>0</td>\n",
              "      <td>0</td>\n",
              "    </tr>\n",
              "    <tr>\n",
              "      <th>3</th>\n",
              "      <td>1</td>\n",
              "      <td>1</td>\n",
              "      <td>1</td>\n",
              "    </tr>\n",
              "    <tr>\n",
              "      <th>4</th>\n",
              "      <td>1</td>\n",
              "      <td>1</td>\n",
              "      <td>0</td>\n",
              "    </tr>\n",
              "    <tr>\n",
              "      <th>...</th>\n",
              "      <td>...</td>\n",
              "      <td>...</td>\n",
              "      <td>...</td>\n",
              "    </tr>\n",
              "    <tr>\n",
              "      <th>295</th>\n",
              "      <td>0</td>\n",
              "      <td>0</td>\n",
              "      <td>0</td>\n",
              "    </tr>\n",
              "    <tr>\n",
              "      <th>296</th>\n",
              "      <td>1</td>\n",
              "      <td>1</td>\n",
              "      <td>1</td>\n",
              "    </tr>\n",
              "    <tr>\n",
              "      <th>297</th>\n",
              "      <td>1</td>\n",
              "      <td>1</td>\n",
              "      <td>0</td>\n",
              "    </tr>\n",
              "    <tr>\n",
              "      <th>298</th>\n",
              "      <td>1</td>\n",
              "      <td>0</td>\n",
              "      <td>0</td>\n",
              "    </tr>\n",
              "    <tr>\n",
              "      <th>299</th>\n",
              "      <td>1</td>\n",
              "      <td>1</td>\n",
              "      <td>0</td>\n",
              "    </tr>\n",
              "  </tbody>\n",
              "</table>\n",
              "<p>300 rows × 3 columns</p>\n",
              "</div>"
            ],
            "text/plain": [
              "     chatgpt_correct  copilot_correct  gemini_correct\n",
              "0                  0                1               0\n",
              "1                  0                0               0\n",
              "2                  0                0               0\n",
              "3                  1                1               1\n",
              "4                  1                1               0\n",
              "..               ...              ...             ...\n",
              "295                0                0               0\n",
              "296                1                1               1\n",
              "297                1                1               0\n",
              "298                1                0               0\n",
              "299                1                1               0\n",
              "\n",
              "[300 rows x 3 columns]"
            ]
          },
          "execution_count": 12,
          "metadata": {},
          "output_type": "execute_result"
        }
      ],
      "source": [
        "correct = pd.DataFrame()\n",
        "# Calculate correctness for each model\n",
        "\n",
        "correct['chatgpt_correct'] = (LLMData['chatgpt'] == LLMData['answer']).astype(int)\n",
        "correct['copilot_correct'] = (LLMData['copilot'] == LLMData['answer']).astype(int)\n",
        "correct['gemini_correct'] = (LLMData['gemini'] == LLMData['answer']).astype(int)\n",
        "\n",
        "correct"
      ]
    },
    {
      "cell_type": "code",
      "execution_count": 13,
      "metadata": {
        "id": "TVpWVnHSQ4QR"
      },
      "outputs": [
        {
          "name": "stdout",
          "output_type": "stream",
          "text": [
            "Q: 59.372\n",
            "p-value: 0.00000000000012807374\n"
          ]
        }
      ],
      "source": [
        "import numpy as np\n",
        "from mlxtend.evaluate import cochrans_q\n",
        "from mlxtend.evaluate import mcnemar, mcnemar_table\n",
        "\n",
        "y_true = np.ones(300)\n",
        "\n",
        "q, p_value = cochrans_q(y_true,\n",
        "                        correct['chatgpt_correct'].to_numpy(),\n",
        "                        correct['copilot_correct'].to_numpy(),\n",
        "                        correct['gemini_correct'].to_numpy())\n",
        "\n",
        "print('Q: %.3f' % q)\n",
        "print('p-value: %.20f' % p_value)"
      ]
    },
    {
      "cell_type": "markdown",
      "metadata": {
        "id": "TLLV_kqNerLt"
      },
      "source": [
        "#### Hypothethis POST_HOC test (MCNemars)"
      ]
    },
    {
      "cell_type": "code",
      "execution_count": 15,
      "metadata": {
        "id": "WVqOud4KZojb"
      },
      "outputs": [
        {
          "name": "stdout",
          "output_type": "stream",
          "text": [
            "Corrected p-value for gemini_correct vs chatgpt_correct: 1.7353486717400154e-06\n",
            "Corrected p-value for copilot_correct vs chatgpt_correct: 0.019172484755223134\n",
            "Corrected p-value for copilot_correct vs gemini_correct: 1.5119280677272549e-12\n"
          ]
        }
      ],
      "source": [
        "from statsmodels.stats.contingency_tables import mcnemar\n",
        "from statsmodels.stats.multitest import multipletests\n",
        "\n",
        "# Assuming 'correct' is your DataFrame and it's already defined\n",
        "# correct = pd.DataFrame( ... )\n",
        "\n",
        "# Assuming 'y_true' is your true labels and it's already defined\n",
        "# y_true = ...\n",
        "\n",
        "# Define the model pairs for pairwise comparison\n",
        "model_pairs = [\n",
        "    ('gemini_correct', 'chatgpt_correct'),\n",
        "    ('copilot_correct', 'chatgpt_correct'),\n",
        "    ('copilot_correct', 'gemini_correct')\n",
        "]\n",
        "\n",
        "# Calculate the p-values using McNemar's test for each pair\n",
        "p_values = []\n",
        "for model1, model2 in model_pairs:\n",
        "    contingency_table = pd.crosstab(correct[model1], correct[model2])\n",
        "    result = mcnemar(contingency_table, exact=False)\n",
        "    p_values.append(result.pvalue)\n",
        "\n",
        "# Apply Bonferroni correction\n",
        "reject, pvals_corrected, _, _ = multipletests(p_values, method='holm')\n",
        "\n",
        "# Print the corrected p-values\n",
        "for pair, pval in zip(model_pairs, pvals_corrected):\n",
        "    print(f\"Corrected p-value for {pair[0]} vs {pair[1]}: {pval}\")\n"
      ]
    },
    {
      "cell_type": "markdown",
      "metadata": {
        "id": "6lXQ6uvxevKK"
      },
      "source": [
        "#### Confidence intervals"
      ]
    },
    {
      "cell_type": "code",
      "execution_count": 16,
      "metadata": {
        "id": "Rchz6tIbe-gb"
      },
      "outputs": [
        {
          "name": "stdout",
          "output_type": "stream",
          "text": [
            "Result of McNemars test using alpha= 0.05\n",
            "Comparison matrix n\n",
            "[[136.  65.]\n",
            " [ 40.  59.]]\n",
            "Approximate 1-alpha confidence interval of theta: [thetaL,thetaU] =  (0.01700030485951798, 0.14930357640515934)\n",
            "p-value for two-sided test A and B have same accuracy (exact binomial test): p= 0.01874091540825797\n",
            "Result of McNemars test using alpha= 0.05\n",
            "Comparison matrix n\n",
            "[[77. 99.]\n",
            " [40. 84.]]\n",
            "Approximate 1-alpha confidence interval of theta: [thetaL,thetaU] =  (0.12252557530937636, 0.26971259370672795)\n",
            "p-value for two-sided test A and B have same accuracy (exact binomial test): p= 5.955419961683012e-07\n",
            "Result of McNemars test using alpha= 0.05\n",
            "Comparison matrix n\n",
            "[[ 93. 108.]\n",
            " [ 24.  75.]]\n",
            "Approximate 1-alpha confidence interval of theta: [thetaL,thetaU] =  (0.21139629104374436, 0.34721905004663656)\n",
            "p-value for two-sided test A and B have same accuracy (exact binomial test): p= 6.384670989454856e-14\n"
          ]
        },
        {
          "data": {
            "text/plain": [
              "((0.08333333333333333,\n",
              "  (0.01700030485951798, 0.14930357640515934),\n",
              "  0.01874091540825797),\n",
              " (0.19666666666666666,\n",
              "  (0.12252557530937636, 0.26971259370672795),\n",
              "  5.955419961683012e-07),\n",
              " (0.28, (0.21139629104374436, 0.34721905004663656), 6.384670989454856e-14))"
            ]
          },
          "execution_count": 16,
          "metadata": {},
          "output_type": "execute_result"
        }
      ],
      "source": [
        "import dtuimldmtools\n",
        "\n",
        "# Binarization of answers\n",
        "preds_chatgpt = (LLMData['chatgpt'] == df['answer']).astype(int).to_numpy()\n",
        "preds_copilot = (LLMData['copilot'] == df['answer']).astype(int).to_numpy()\n",
        "preds_gemini = (LLMData['gemini'] == df['answer']).astype(int).to_numpy()\n",
        "\n",
        "y_true = np.ones(len(df)).astype(int)\n",
        "\n",
        "(dtuimldmtools.mcnemar(y_true, preds_copilot, preds_chatgpt, alpha=0.05),\n",
        "dtuimldmtools.mcnemar(y_true, preds_chatgpt, preds_gemini, alpha=0.05),\n",
        "dtuimldmtools.mcnemar(y_true, preds_copilot, preds_gemini, alpha=0.05))\n"
      ]
    }
  ],
  "metadata": {
    "colab": {
      "provenance": []
    },
    "kernelspec": {
      "display_name": "Python 3",
      "name": "python3"
    },
    "language_info": {
      "codemirror_mode": {
        "name": "ipython",
        "version": 3
      },
      "file_extension": ".py",
      "mimetype": "text/x-python",
      "name": "python",
      "nbconvert_exporter": "python",
      "pygments_lexer": "ipython3",
      "version": "3.9.6"
    }
  },
  "nbformat": 4,
  "nbformat_minor": 0
}
